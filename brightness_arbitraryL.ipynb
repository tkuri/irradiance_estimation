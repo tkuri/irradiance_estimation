{
  "nbformat": 4,
  "nbformat_minor": 0,
  "metadata": {
    "colab": {
      "name": "brightness_arbitraryL.ipynb",
      "provenance": [],
      "collapsed_sections": [],
      "machine_shape": "hm",
      "mount_file_id": "1gpwmPyO5x04M90y64A3-EHHLMym7aLuD",
      "authorship_tag": "ABX9TyN3AcTKgVl2vxP7DTn5RB4k",
      "include_colab_link": true
    },
    "kernelspec": {
      "name": "python3",
      "display_name": "Python 3"
    },
    "accelerator": "GPU"
  },
  "cells": [
    {
      "cell_type": "markdown",
      "metadata": {
        "id": "view-in-github",
        "colab_type": "text"
      },
      "source": [
        "<a href=\"https://colab.research.google.com/github/tkuri/irradiance_estimation/blob/master/brightness_arbitraryL.ipynb\" target=\"_parent\"><img src=\"https://colab.research.google.com/assets/colab-badge.svg\" alt=\"Open In Colab\"/></a>"
      ]
    },
    {
      "cell_type": "markdown",
      "metadata": {
        "id": "h13Ggg97z9jy",
        "colab_type": "text"
      },
      "source": [
        "# Git Clone"
      ]
    },
    {
      "cell_type": "code",
      "metadata": {
        "id": "RNukj3z-0Adq",
        "colab_type": "code",
        "colab": {}
      },
      "source": [
        "%cd /content/drive/My\\ Drive/Colabdata/\n",
        "!git clone https://github.com/tkuri/irradiance_estimation.git"
      ],
      "execution_count": null,
      "outputs": []
    },
    {
      "cell_type": "markdown",
      "metadata": {
        "id": "a5IKnjEgj5gU",
        "colab_type": "text"
      },
      "source": [
        "# Irradiance estimation only (Baseline)"
      ]
    },
    {
      "cell_type": "code",
      "metadata": {
        "id": "ByXcnC10jW7u",
        "colab_type": "code",
        "colab": {}
      },
      "source": [
        "# Move to project directory\n",
        "%cd /content/drive/My\\ Drive/Colabdata/irradiance_estimation\n",
        "\n",
        "# Import and install modules\n",
        "import subprocess\n",
        "from util_eval import eval_data, rem_checkmodel\n",
        "!pip install -r requirements.txt\n",
        "!git pull\n",
        "\n",
        "# Experimental setup\n",
        "traintest_mode = 0 # 0:train&test, 1:train, 2:test\n",
        "scene = 'o2l1_mv_scl_ref_tm' # Scene\n",
        "datamodel = [ # Dataset & Model\n",
        "             ('cbox_tgt+lgt_to_irrgt', 'unet256_in2'),\n",
        "             ('cbox_tgt+lgt_to_irrgt', 'pix2pix_in2'),\n",
        "             ]\n",
        "name_suffix = '_debug_0721.00' # Suffix of experimental name\n",
        "\n",
        "\n",
        "def train_proc():\n",
        "  !python train.py --dataroot ./datasets/{scene}/{data} --name ./{scene}/{name}{name_suffix} --model {model} --dataset_mode aligned3_tm_max_rnd --show_multi\n",
        "\n",
        "def test_proc():\n",
        "  !python test.py --dataroot ./datasets/{scene}/{data} --name ./{scene}/{name}{name_suffix} --model {model} --dataset_mode aligned3_tm_max_rnd --show_multi\n",
        "  # Evaluate irradiance data\n",
        "  try:\n",
        "    eval_data('{}/{}'.format(scene, name))\n",
        "  except OSError as e:\n",
        "    pass\n",
        "\n",
        "for data, model in datamodel:\n",
        "  name = '{}_{}'.format(data, model)\n",
        "  if traintest_mode==0:\n",
        "    train_proc()\n",
        "    test_proc()\n",
        "  elif traintest_mode==1:\n",
        "    train_proc()\n",
        "  else:\n",
        "    test_proc()"
      ],
      "execution_count": null,
      "outputs": []
    },
    {
      "cell_type": "markdown",
      "metadata": {
        "id": "-6Fez96mkgm6",
        "colab_type": "text"
      },
      "source": [
        "# Irradiance estimation only (LTM)"
      ]
    },
    {
      "cell_type": "code",
      "metadata": {
        "id": "lDBUQ6F1wu_i",
        "colab_type": "code",
        "colab": {}
      },
      "source": [
        "# Move to project directory\n",
        "%cd /content/drive/My\\ Drive/Colabdata/irradiance_estimation\n",
        "\n",
        "# Import and install modules\n",
        "import subprocess\n",
        "from util_eval import eval_data, rem_checkmodel\n",
        "!pip install -r requirements.txt\n",
        "!git pull\n",
        "\n",
        "# Experimental setup\n",
        "traintest_mode = 0 # 0:train&test, 1:train, 2:test\n",
        "scene = 'o2l1_mv_scl_ref_tm' # Scene\n",
        "datamodel = [ # Dataset & Model\n",
        "             ('cbox_tgt+lgt_to_irrgt', 'pix2pix_tm_reg'),\n",
        "             ]\n",
        "name_suffix = '_debug_0721.00' # Suffix of experimental name\n",
        "reglam = 10 # If set 0, no regularization\n",
        "light_res = 5\n",
        "\n",
        "def train_proc():\n",
        "  !python train.py --dataroot ./datasets/{scene}/{data} --name ./{scene}/{name}{name_suffix} --model {model} --dataset_mode aligned3_tm_max_rnd --light_res {light_res} --show_multi --lambda_LTMReg {reglam}\n",
        "\n",
        "def test_proc():\n",
        "  !python test.py --dataroot ./datasets/{scene}/{data} --name ./{scene}/{name}{name_suffix} --model {model} --dataset_mode aligned3_tm_max_rnd --light_res {light_res} --show_multi\n",
        "  # Evaluate irradiance data\n",
        "  try:\n",
        "    eval_data('{}/{}'.format(scene, name))\n",
        "  except OSError as e:\n",
        "    pass\n",
        "\n",
        "for data, model in datamodel:\n",
        "  name = '{}_{}'.format(data, model)\n",
        "  if traintest_mode==0:\n",
        "    train_proc()\n",
        "    test_proc()\n",
        "  elif traintest_mode==1:\n",
        "    train_proc()\n",
        "  else:\n",
        "    test_proc()"
      ],
      "execution_count": null,
      "outputs": []
    },
    {
      "cell_type": "markdown",
      "metadata": {
        "id": "dGl0TrkQxWe-",
        "colab_type": "text"
      },
      "source": [
        "# Finding brightest portions"
      ]
    },
    {
      "cell_type": "code",
      "metadata": {
        "id": "QdQjoUIKxetq",
        "colab_type": "code",
        "colab": {}
      },
      "source": [
        "%cd /content/drive/My\\ Drive/Colabdata/irradiance_estimation\n",
        "!pip install -r requirements.txt\n",
        "!git pull\n",
        "\n",
        "traintest_mode = 0 # 0:train&test, 1:train, 2:test\n",
        "\n",
        "gpu = 0\n",
        "data = './datasets/o2l1_mv_scl_ref_tm/cbox_tgt+lgt_to_irrgt'\n",
        "scene = 'o2l1_mv_scl_ref_tm'\n",
        "model = 'brightest_mul_inL' # Baseline\n",
        "# model = 'brightest_mul_tm_cas' # Calc LTM\n",
        "\n",
        "suffix = '_debug_0721.00'\n",
        "dataset = 'aligned3_bp_tm_max_rnd'\n",
        "result_name = model+suffix+'_bp_eval'\n",
        "\n",
        "command = '--dataroot {} --name ./{}/{}{} --model {} --dataset_mode {}'.format(data, scene, model, suffix, model, dataset)\n",
        "command += ' --show_multi'\n",
        "command += ' --light_res 5'\n",
        "# command += ' --max_dataset_size 10'\n",
        "# command += ' --cat_In'\n",
        "# command += ' --disp_brighest_info'\n",
        "# command += ' --shading_norm'\n",
        "# command += ' --no_mask'\n",
        "\n",
        "train_command = command + ' --save_latest_freq 100 --n_epochs 5 --n_epochs_decay 5'\n",
        "train_command += ' --save_epoch_freq 2'\n",
        "train_command += ' --display_freq 20 --update_html_freq 20 --print_freq 5'\n",
        "# train_command += ' --continue_train --epoch_count 3'\n",
        "test_command = command + ' --num_test 100 --test_mode 1'\n",
        "test_command += ' --no_save_image'\n",
        "test_command += ' --show_multi'\n",
        "# test_command += ' --re_index'\n",
        "\n",
        "if traintest_mode==0:\n",
        "    !python train.py {train_command}\n",
        "    !python test_bp.py {test_command}\n",
        "elif traintest_mode==1:\n",
        "    !python train.py {train_command}\n",
        "else:\n",
        "    !python test_bp.py {test_command}"
      ],
      "execution_count": null,
      "outputs": []
    }
  ]
}