{
  "nbformat": 4,
  "nbformat_minor": 0,
  "metadata": {
    "colab": {
      "name": "irradiance.ipynb",
      "provenance": [],
      "collapsed_sections": [],
      "toc_visible": true,
      "machine_shape": "hm",
      "mount_file_id": "1g-i-qI3U_GkG2h-_WdEo_Z3stYTu_sKa",
      "authorship_tag": "ABX9TyOgFJwqst+jVdcTTINMV+3q",
      "include_colab_link": true
    },
    "kernelspec": {
      "name": "python3",
      "display_name": "Python 3"
    },
    "accelerator": "GPU"
  },
  "cells": [
    {
      "cell_type": "markdown",
      "metadata": {
        "id": "view-in-github",
        "colab_type": "text"
      },
      "source": [
        "<a href=\"https://colab.research.google.com/github/tkuri/pytorch-CycleGAN-and-pix2pix/blob/master/irradiance.ipynb\" target=\"_parent\"><img src=\"https://colab.research.google.com/assets/colab-badge.svg\" alt=\"Open In Colab\"/></a>"
      ]
    },
    {
      "cell_type": "code",
      "metadata": {
        "id": "iFxiSWDTJJbU",
        "colab_type": "code",
        "colab": {}
      },
      "source": [
        "import subprocess\n",
        "%cd /content/drive/My\\ Drive/Colabdata/pytorch-CycleGAN-and-pix2pix\n",
        "!pip install -r requirements.txt\n",
        "# light_list = [16, 32]\n",
        "traintest_list = ['train.py', 'test.py']\n",
        "# traintest_list = ['test.py']\n",
        "\n",
        "data = 'o2l2_mv_scl'\n",
        "\n",
        "# for t in traintest_list:\n",
        "#   !python {t} --dataroot ./datasets/{data}/cbox_in+lpd_to_irrgt --name ./{data}/cbox_in_to_irrgt --model pix2pix --direction AtoB --dataset_mode aligned3\n",
        "\n",
        "# for t in traintest_list:\n",
        "#   !python {t} --dataroot ./datasets/{data}/cbox_tpd+lpd_to_irrgt --name ./{data}/cbox_tpd_to_irrgt --model pix2pix --direction AtoB --dataset_mode aligned3\n",
        "\n",
        "# for t in traintest_list:\n",
        "#   !python {t} --dataroot ./datasets/{data}/cbox_in+lpd_to_irrgt --name ./{data}/cbox_in+lpd_to_irrgt --model pix2pix_in2 --direction AtoB --dataset_mode aligned3\n",
        "\n",
        "# for t in traintest_list:\n",
        "#   !python {t} --dataroot ./datasets/{data}/cbox_tgt+lgt_to_irrgt --name ./{data}/cbox_tgt_to_irrgt --model pix2pix --direction AtoB --dataset_mode aligned3\n",
        "\n",
        "# for t in traintest_list:\n",
        "#   !python {t} --dataroot ./datasets/{data}/cbox_tpd+lpd_to_irrgt --name ./{data}/cbox_tpd+lpd_to_irrgt --model pix2pix_in2 --direction AtoB --dataset_mode aligned3\n",
        "\n",
        "# for t in traintest_list:\n",
        "#   !python {t} --dataroot ./datasets/{data}/cbox_tgt+lgt_to_irrgt --name ./{data}/cbox_tgt+lgt_to_irrgt --model pix2pix_in2 --direction AtoB --dataset_mode aligned3\n",
        "\n",
        "# for t in traintest_list:\n",
        "#   !python {t} --dataroot ./datasets/{data}/cbox_in+lpd+tpd_to_irrgt --name ./{data}/cbox_in+lpd+tpd_to_irrgt --model pix2pix_in3 --direction AtoB --dataset_mode aligned4\n",
        "\n",
        "light_list = [4, 16, 32]\n",
        "for l in light_list:\n",
        "  for t in traintest_list:\n",
        "    # !python {t} --dataroot ./datasets/{data}/cbox_tpd+lpd_to_irrgt --name ./{data}/cbox_tpd+lpd_to_irrgt_tmin2_l{l} --model pix2pix_tm_in2 --direction AtoB --dataset_mode aligned3 --light_res {l}\n",
        "    !python {t} --dataroot ./datasets/{data}/cbox_tpd+lpd_to_irrgt --name ./{data}/cbox_tpd+lpd_to_irrgt_tm2in2_l{l} --model pix2pix_tm2_in2 --direction AtoB --dataset_mode aligned3 --light_res {l}\n",
        "    !python {t} --dataroot ./datasets/{data}/cbox_in+lpd+tpd_to_irrgt --name ./{data}/cbox_in+lpd+tpd_to_irrgt_tm2in3_l{l} --model pix2pix_tm2_in3 --direction AtoB --dataset_mode aligned4 --light_res {l}  \n",
        "\n",
        "\n",
        "# light_list = [16]\n",
        "# # ic_list = [1, 3, 8]\n",
        "# ic_list = [2, 4, 8]\n",
        "# for ic in ic_list:\n",
        "#   for l in light_list:\n",
        "#     for t in traintest_list:\n",
        "#       !python {t} --dataroot ./datasets/{data}/cbox_tpd+lpd_to_irrgt --name ./{data}/cbox_tpd+lpd_to_irrgt_tm2mcin2_l{l}_ic{ic} --model pix2pix_tm2mc_in2 --direction AtoB --dataset_mode aligned3 --light_res {l} --intermediate_nc {ic}\n",
        "#       !python {t} --dataroot ./datasets/{data}/cbox_in+lpd+tpd_to_irrgt --name ./{data}/cbox_in+lpd+tpd_to_irrgt_tm2mcin3_l{l}_ic{ic} --model pix2pix_tm2mc_in3 --direction AtoB --dataset_mode aligned4 --light_res {l} --intermediate_nc {ic}  \n"
      ],
      "execution_count": 0,
      "outputs": []
    },
    {
      "cell_type": "markdown",
      "metadata": {
        "id": "l1vmrUZbLazj",
        "colab_type": "text"
      },
      "source": [
        "# All Process (Train / Test / Eval / Remove Checkpoint)"
      ]
    },
    {
      "cell_type": "markdown",
      "metadata": {
        "id": "8iDDnhLqUjN1",
        "colab_type": "text"
      },
      "source": [
        "## Simple Model"
      ]
    },
    {
      "cell_type": "code",
      "metadata": {
        "id": "dilV7IWJFDWy",
        "colab_type": "code",
        "colab": {}
      },
      "source": [
        "%cd /content/drive/My\\ Drive/Colabdata/pytorch-CycleGAN-and-pix2pix\n",
        "import subprocess\n",
        "from util_eval import eval_data, rem_checkmodel\n",
        "!pip install -r requirements.txt\n",
        "traintest_list = ['train.py', 'test.py']\n",
        "\n",
        "scene = 'o2l2_mv_scl_black'\n",
        "\n",
        "data = 'cbox_in+lpd_to_irrgt'\n",
        "model = 'pix2pix'\n",
        "name = '{}_{}'.format(data, model)\n",
        "# for t in traintest_list:\n",
        "#   !python {t} --dataroot ./datasets/{scene}/{data} --name ./{scene}/{name} --model {model} --direction AtoB --dataset_mode aligned3\n",
        "# eval_data('{}/{}'.format(scene, name))\n",
        "# rem_checkmodel('{}/{}'.format(scene, name))\n",
        "\n",
        "data = 'cbox_in+lpd_to_irrgt'\n",
        "model = 'pix2pix_in2'\n",
        "name = '{}_{}'.format(data, model)\n",
        "# for t in traintest_list:\n",
        "#   !python {t} --dataroot ./datasets/{scene}/{data} --name ./{scene}/{name} --model pix2pix --direction AtoB --dataset_mode aligned3\n",
        "eval_data('{}/{}'.format(scene, name))\n",
        "rem_checkmodel('{}/{}'.format(scene, name))\n",
        "\n",
        "data = 'cbox_tpd+lpd_to_irrgt'\n",
        "model = 'pix2pix'\n",
        "name = '{}_{}'.format(data, model)\n",
        "# for t in traintest_list:\n",
        "#   !python {t} --dataroot ./datasets/{scene}/{data} --name ./{scene}/{name} --model {model} --direction AtoB --dataset_mode aligned3\n",
        "# eval_data('{}/{}'.format(scene, name))\n",
        "# rem_checkmodel('{}/{}'.format(scene, name))\n",
        "\n",
        "\n",
        "data = 'cbox_tpd+lpd_to_irrgt'\n",
        "model = 'pix2pix_in2'\n",
        "name = '{}_{}'.format(data, model)\n",
        "# for t in traintest_list:\n",
        "#   !python {t} --dataroot ./datasets/{scene}/{data} --name ./{scene}/{name} --model {model} --direction AtoB --dataset_mode aligned3\n",
        "# eval_data('{}/{}'.format(scene, name))\n",
        "# rem_checkmodel('{}/{}'.format(scene, name))\n"
      ],
      "execution_count": 0,
      "outputs": []
    },
    {
      "cell_type": "markdown",
      "metadata": {
        "id": "qqJpIviKUlmR",
        "colab_type": "text"
      },
      "source": [
        "## Model with some paramters"
      ]
    },
    {
      "cell_type": "code",
      "metadata": {
        "id": "ySMlYzIyUp2f",
        "colab_type": "code",
        "colab": {}
      },
      "source": [
        "%cd /content/drive/My\\ Drive/Colabdata/pytorch-CycleGAN-and-pix2pix\n",
        "import subprocess\n",
        "from util_eval import eval_data, rem_checkmodel\n",
        "!pip install -r requirements.txt\n",
        "traintest_list = ['train.py', 'test.py']\n",
        "\n",
        "scene = 'o2l2_mv_scl_black'\n",
        "\n",
        "data = 'cbox_tpd+lpd_to_irrgt'\n",
        "model = 'pix2pix_tm2_in2'\n",
        "\n",
        "light_list = [4, 16, 32]\n",
        "ic_list = [2, 4, 8]\n",
        "for ic in ic_list:\n",
        "  for l in light_list:\n",
        "    name = '{}_{}_l{}_ic{}'.format(data, model, l, ic)\n",
        "    for t in traintest_list:\n",
        "      !python {t} --dataroot ./datasets/{scene}/{data} --name ./{scene}/{name} --model {model} --direction AtoB --dataset_mode aligned3 --light_res {l} --intermediate_nc {ic}\n",
        "    eval_data('{}/{}'.format(scene, name))\n",
        "    rem_checkmodel('{}/{}'.format(scene, name))"
      ],
      "execution_count": 0,
      "outputs": []
    },
    {
      "cell_type": "markdown",
      "metadata": {
        "id": "vDZSqTNaLQ4D",
        "colab_type": "text"
      },
      "source": [
        "# Evaluation Several Data"
      ]
    },
    {
      "cell_type": "code",
      "metadata": {
        "id": "4Hl-8xCErH_D",
        "colab_type": "code",
        "colab": {
          "base_uri": "https://localhost:8080/",
          "height": 292
        },
        "outputId": "3b19d035-05cb-4e02-8980-77536a7269d2"
      },
      "source": [
        "%cd /content/drive/My\\ Drive/Colabdata/pytorch-CycleGAN-and-pix2pix\n",
        "from util_eval import eval_data\n",
        "scene = 'o2l2_mv_scl'\n",
        "dirs = [\n",
        "        'cbox_in_to_irrgt_unet256',\n",
        "        'cbox_tpd_to_irrgt_unet256', \n",
        "        'cbox_in+lpd_to_irrgt_unet256_in2', \n",
        "        'cbox_tpd+lpd_to_irrgt_unet256_in2' \n",
        "        ]\n",
        "for dir in dirs:\n",
        "  eval_data('{}/{}'.format(scene, dir))"
      ],
      "execution_count": 2,
      "outputs": [
        {
          "output_type": "stream",
          "text": [
            "/content/drive/My Drive/Colabdata/pytorch-CycleGAN-and-pix2pix\n",
            "Target Directory: /content/drive/My Drive/Colabdata/pytorch-CycleGAN-and-pix2pix/results/o2l2_mv_scl/cbox_in_to_irrgt_unet256/test_latest/images/\n",
            "/content/drive/My Drive/Colabdata/PerceptualSimilarity/test/real/0000.png\n",
            "/content/drive/My Drive/Colabdata/PerceptualSimilarity/test/real/0001.png\n",
            "/content/drive/My Drive/Colabdata/PerceptualSimilarity/test/real/0002.png\n",
            "/content/drive/My Drive/Colabdata/PerceptualSimilarity/test/real/0003.png\n",
            "/content/drive/My Drive/Colabdata/PerceptualSimilarity/test/real/0004.png\n",
            "/content/drive/My Drive/Colabdata/PerceptualSimilarity/test/real/0005.png\n",
            "/content/drive/My Drive/Colabdata/PerceptualSimilarity/test/real/0006.png\n",
            "/content/drive/My Drive/Colabdata/PerceptualSimilarity/test/real/0007.png\n",
            "/content/drive/My Drive/Colabdata/PerceptualSimilarity/test/real/0008.png\n",
            "/content/drive/My Drive/Colabdata/PerceptualSimilarity/test/real/0009.png\n"
          ],
          "name": "stdout"
        },
        {
          "output_type": "stream",
          "text": [
            "\n",
            "KeyboardInterrupt\n",
            "\n"
          ],
          "name": "stderr"
        }
      ]
    },
    {
      "cell_type": "markdown",
      "metadata": {
        "id": "3LEffMqmLT1r",
        "colab_type": "text"
      },
      "source": [
        "# Remove Several Checkpoint Model"
      ]
    },
    {
      "cell_type": "code",
      "metadata": {
        "id": "9AAHXDZaLJoB",
        "colab_type": "code",
        "colab": {}
      },
      "source": [
        "import os\n",
        "%cd /content/drive/My\\ Drive/Colabdata/pytorch-CycleGAN-and-pix2pix\n",
        "from util_eval import rem_checkmodel\n",
        "\n",
        "scene = 'o2l2_mv_scl_black'\n",
        "path = '/content/drive/My Drive/Colabdata/pytorch-CycleGAN-and-pix2pix/checkpoints/{}/'.format(scene)\n",
        "dirs = os.listdir(path)\n",
        "for dir in dirs:\n",
        "  rem_checkmodel('{}/{}'.format(scene, dir))"
      ],
      "execution_count": 0,
      "outputs": []
    },
    {
      "cell_type": "markdown",
      "metadata": {
        "id": "zi1sdAc0TsPx",
        "colab_type": "text"
      },
      "source": [
        "# Display Info"
      ]
    },
    {
      "cell_type": "code",
      "metadata": {
        "id": "5LP_q2n7_EzT",
        "colab_type": "code",
        "outputId": "552be0f1-b665-42f3-9747-c407a55f61d3",
        "colab": {
          "base_uri": "https://localhost:8080/",
          "height": 306
        }
      },
      "source": [
        "!nvidia-smi"
      ],
      "execution_count": 0,
      "outputs": [
        {
          "output_type": "stream",
          "text": [
            "Mon Apr 20 05:11:02 2020       \n",
            "+-----------------------------------------------------------------------------+\n",
            "| NVIDIA-SMI 440.64.00    Driver Version: 418.67       CUDA Version: 10.1     |\n",
            "|-------------------------------+----------------------+----------------------+\n",
            "| GPU  Name        Persistence-M| Bus-Id        Disp.A | Volatile Uncorr. ECC |\n",
            "| Fan  Temp  Perf  Pwr:Usage/Cap|         Memory-Usage | GPU-Util  Compute M. |\n",
            "|===============================+======================+======================|\n",
            "|   0  Tesla P100-PCIE...  Off  | 00000000:00:04.0 Off |                    0 |\n",
            "| N/A   46C    P0    28W / 250W |      0MiB / 16280MiB |      0%      Default |\n",
            "+-------------------------------+----------------------+----------------------+\n",
            "                                                                               \n",
            "+-----------------------------------------------------------------------------+\n",
            "| Processes:                                                       GPU Memory |\n",
            "|  GPU       PID   Type   Process name                             Usage      |\n",
            "|=============================================================================|\n",
            "|  No running processes found                                                 |\n",
            "+-----------------------------------------------------------------------------+\n"
          ],
          "name": "stdout"
        }
      ]
    },
    {
      "cell_type": "code",
      "metadata": {
        "id": "DBj8ImaxJqT5",
        "colab_type": "code",
        "colab": {}
      },
      "source": [
        ""
      ],
      "execution_count": 0,
      "outputs": []
    }
  ]
}